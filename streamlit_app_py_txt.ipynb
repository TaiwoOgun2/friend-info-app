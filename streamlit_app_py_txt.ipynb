{
  "nbformat": 4,
  "nbformat_minor": 0,
  "metadata": {
    "colab": {
      "provenance": [],
      "authorship_tag": "ABX9TyN0R4t7qy4v0z+YhdbG5cpU",
      "include_colab_link": true
    },
    "kernelspec": {
      "name": "python3",
      "display_name": "Python 3"
    },
    "language_info": {
      "name": "python"
    }
  },
  "cells": [
    {
      "cell_type": "markdown",
      "metadata": {
        "id": "view-in-github",
        "colab_type": "text"
      },
      "source": [
        "<a href=\"https://colab.research.google.com/github/TaiwoOgun2/friend-info-app/blob/main/streamlit_app_py_txt.ipynb\" target=\"_parent\"><img src=\"https://colab.research.google.com/assets/colab-badge.svg\" alt=\"Open In Colab\"/></a>"
      ]
    },
    {
      "cell_type": "code",
      "execution_count": null,
      "metadata": {
        "id": "8pId6Ww-bCvq"
      },
      "outputs": [],
      "source": [
        "def talk_to_friend():\n",
        "    print(\"🎉 Welcome to the Friend Info App!\\n\")\n",
        "\n",
        "    name = input(\"👤 What's your friend's name? \")\n",
        "    age = input(\"📅 Age: \")\n",
        "    height = input(\"📏 Height (e.g., 5.9 ft or 180 cm): \")\n",
        "    hobby = input(\"🎨 Hobby: \")\n",
        "    favourite = input(\"❤ What does your friend like most? \")\n",
        "    strength = input(\"💪 What is their biggest strength? \")\n",
        "    status = input(\"💍 Relationship status (Single/Married): \")\n",
        "\n",
        "    print(\"\\n📋 Summary about your friend:\\n\")\n",
        "    print(f\"🧑 Name: {name}\")\n",
        "    print(f\"📅 Age: {age}\")\n",
        "    print(f\"📏 Height: {height}\")\n",
        "    print(f\"🎨 Hobby: {hobby}\")\n",
        "    print(f\"❤ Loves: {favourite}\")\n",
        "    print(f\"💪 Strength: {strength}\")\n",
        "    print(f\"💍 Relationship Status: {status}\")\n",
        "\n",
        "    print(f\"\\nThanks for sharing, you're a good friend to {name}! 😊\")\n",
        "\n",
        "# Run the app\n",
        "talk_to_friend()"
      ]
    }
  ]
}